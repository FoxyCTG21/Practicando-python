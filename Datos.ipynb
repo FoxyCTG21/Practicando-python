{
    "cells": [
        {
            "cell_type": "markdown",
            "source": [
                "Vamos a imprimir la indicación de nombre y pedir el dato."
            ],
            "metadata": {}
        },
        {
            "cell_type": "code",
            "execution_count": 8,
            "source": [
                "print(\"Indica tu nombre\")\r\n",
                "nombre = input()"
            ],
            "outputs": [
                {
                    "output_type": "stream",
                    "name": "stdout",
                    "text": [
                        "Indica tu nombre\n"
                    ]
                }
            ],
            "metadata": {}
        },
        {
            "cell_type": "markdown",
            "source": [
                "Vamos a imprimir la indicación de edad y pedir el dato."
            ],
            "metadata": {}
        },
        {
            "cell_type": "code",
            "execution_count": 9,
            "source": [
                "print(\"Indica tu edad\")\r\n",
                "edad = input()"
            ],
            "outputs": [
                {
                    "output_type": "stream",
                    "name": "stdout",
                    "text": [
                        "Indica tu edad\n"
                    ]
                }
            ],
            "metadata": {}
        },
        {
            "cell_type": "markdown",
            "source": [
                "Vamos a imprimir la indicación de genero y pedir el dato."
            ],
            "metadata": {}
        },
        {
            "cell_type": "code",
            "execution_count": 10,
            "source": [
                "print(\"Indica tu genero\")\r\n",
                "genero = input()"
            ],
            "outputs": [
                {
                    "output_type": "stream",
                    "name": "stdout",
                    "text": [
                        "Indica tu genero\n"
                    ]
                }
            ],
            "metadata": {}
        },
        {
            "cell_type": "markdown",
            "source": [
                "Vamos a imprimir la indicación de la orientación sexual y pedir el dato."
            ],
            "metadata": {}
        },
        {
            "cell_type": "code",
            "execution_count": 11,
            "source": [
                "print(\"Indica tu orientación\")\r\n",
                "orientación = input()"
            ],
            "outputs": [
                {
                    "output_type": "stream",
                    "name": "stdout",
                    "text": [
                        "Indica tu orientación\n"
                    ]
                }
            ],
            "metadata": {}
        },
        {
            "cell_type": "markdown",
            "source": [
                "Daremos a conocer el resultado de los datos."
            ],
            "metadata": {}
        },
        {
            "cell_type": "code",
            "execution_count": 12,
            "source": [
                "print(\r\n",
                "    \"Ahora tu nombre es\",\r\n",
                "    nombre,\r\n",
                "    \"tienes\",\r\n",
                "    edad,\r\n",
                "    \"años\",\r\n",
                "    \"eres\",\r\n",
                "    genero,\r\n",
                "    \"y te gustan los\",\r\n",
                "    orientación,\r\n",
                ")"
            ],
            "outputs": [
                {
                    "output_type": "stream",
                    "name": "stdout",
                    "text": [
                        "Ahora tu nombre es Foxy tienes 21 años eres hombre y te gustan los hombres\n"
                    ]
                }
            ],
            "metadata": {}
        }
    ],
    "metadata": {
        "orig_nbformat": 4,
        "language_info": {
            "name": "python"
        }
    },
    "nbformat": 4,
    "nbformat_minor": 2
}